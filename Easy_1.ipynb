{
  "nbformat": 4,
  "nbformat_minor": 0,
  "metadata": {
    "colab": {
      "provenance": []
    },
    "kernelspec": {
      "name": "python3",
      "display_name": "Python 3"
    },
    "language_info": {
      "name": "python"
    }
  },
  "cells": [
    {
      "cell_type": "code",
      "execution_count": 2,
      "metadata": {
        "colab": {
          "base_uri": "https://localhost:8080/"
        },
        "id": "koIWj1cUIMjO",
        "outputId": "7e8f872a-41db-4793-82b5-9a578b5001b3"
      },
      "outputs": [
        {
          "output_type": "stream",
          "name": "stdout",
          "text": [
            "enter a sentence: hi bu\n",
            "Length of the last word: 2\n"
          ]
        }
      ],
      "source": [
        "def lengthh(s):\n",
        "    words = s.rstrip().split()\n",
        "    if not words:\n",
        "        return 0\n",
        "\n",
        "    return len(words[-1])\n",
        "sent = input(\"enter a sentence: \")\n",
        "result = lengthh(sent)\n",
        "print(\"Length of the last word:\", result)"
      ]
    },
    {
      "cell_type": "code",
      "source": [],
      "metadata": {
        "id": "vhXAWFAiINwd"
      },
      "execution_count": null,
      "outputs": []
    }
  ]
}