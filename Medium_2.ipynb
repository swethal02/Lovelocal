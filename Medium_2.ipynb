{
  "nbformat": 4,
  "nbformat_minor": 0,
  "metadata": {
    "colab": {
      "provenance": []
    },
    "kernelspec": {
      "name": "python3",
      "display_name": "Python 3"
    },
    "language_info": {
      "name": "python"
    }
  },
  "cells": [
    {
      "cell_type": "code",
      "execution_count": 5,
      "metadata": {
        "colab": {
          "base_uri": "https://localhost:8080/"
        },
        "id": "mhECB882h0HD",
        "outputId": "2beb2d34-94f3-4dd5-d101-88b0b0c20db5"
      },
      "outputs": [
        {
          "output_type": "stream",
          "name": "stdout",
          "text": [
            "Enter a list of integers separated by spaces: 3 2 3\n",
            "[3]\n"
          ]
        }
      ],
      "source": [
        "def majority_elements(nums):\n",
        "    if not nums:\n",
        "        return []\n",
        "\n",
        "    candidate1, count1 = None, 0\n",
        "    candidate2, count2 = None, 0\n",
        "\n",
        "    for num in nums:\n",
        "        if candidate1 == num:\n",
        "            count1 += 1\n",
        "        elif candidate2 == num:\n",
        "            count2 += 1\n",
        "        elif count1 == 0:\n",
        "            candidate1, count1 = num, 1\n",
        "        elif count2 == 0:\n",
        "            candidate2, count2 = num, 1\n",
        "        else:\n",
        "            count1 -= 1\n",
        "            count2 -= 1\n",
        "\n",
        "    count1 = count2 = 0\n",
        "    for num in nums:\n",
        "        if num == candidate1:\n",
        "            count1 += 1\n",
        "        elif num == candidate2:\n",
        "            count2 += 1\n",
        "\n",
        "    result = []\n",
        "    n = len(nums)\n",
        "\n",
        "    if count1 > n // 3:\n",
        "        result.append(candidate1)\n",
        "    if count2 > n // 3:\n",
        "        result.append(candidate2)\n",
        "\n",
        "    return result\n",
        "\n",
        "\n",
        "user_input = input(\"Enter a list of integers separated by spaces: \")\n",
        "nums = list(map(int, user_input.split()))\n",
        "result = majority_elements(nums)\n",
        "print(result)"
      ]
    },
    {
      "cell_type": "code",
      "source": [],
      "metadata": {
        "id": "bwwHAjnzh25k"
      },
      "execution_count": null,
      "outputs": []
    }
  ]
}