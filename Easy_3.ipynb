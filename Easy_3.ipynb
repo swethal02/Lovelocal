{
  "nbformat": 4,
  "nbformat_minor": 0,
  "metadata": {
    "colab": {
      "provenance": []
    },
    "kernelspec": {
      "name": "python3",
      "display_name": "Python 3"
    },
    "language_info": {
      "name": "python"
    }
  },
  "cells": [
    {
      "cell_type": "code",
      "execution_count": 1,
      "metadata": {
        "colab": {
          "base_uri": "https://localhost:8080/"
        },
        "id": "BZsGM2SnG8K6",
        "outputId": "a28ca7f5-8156-458d-a9f0-51f617d434b7"
      },
      "outputs": [
        {
          "output_type": "stream",
          "name": "stdout",
          "text": [
            "Enter the number of rows: 7\n",
            "[1]\n",
            "[1, 1]\n",
            "[1, 2, 1]\n",
            "[1, 3, 3, 1]\n",
            "[1, 4, 6, 4, 1]\n",
            "[1, 5, 10, 10, 5, 1]\n",
            "[1, 6, 15, 20, 15, 6, 1]\n"
          ]
        }
      ],
      "source": [
        "def pascalsTriangle(numRows):\n",
        "\n",
        "\n",
        "    result = []\n",
        "\n",
        "    for i in range(numRows):\n",
        "\n",
        "        row = [1] * (i+1)\n",
        "\n",
        "        for j in range(1,i):\n",
        "            row[j] = result[i-1][j-1] + result[i-1][j]\n",
        "        result.append(row)\n",
        "    return result\n",
        "\n",
        "rows = int(input(\"Enter the number of rows: \"))\n",
        "ptriangle = pascalsTriangle(rows)\n",
        "for row in ptriangle:\n",
        "    print(row)\n",
        "\n"
      ]
    },
    {
      "cell_type": "code",
      "source": [],
      "metadata": {
        "id": "CuBztlAZHf-x"
      },
      "execution_count": null,
      "outputs": []
    }
  ]
}