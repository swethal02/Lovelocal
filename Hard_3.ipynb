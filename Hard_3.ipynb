{
  "nbformat": 4,
  "nbformat_minor": 0,
  "metadata": {
    "colab": {
      "provenance": []
    },
    "kernelspec": {
      "name": "python3",
      "display_name": "Python 3"
    },
    "language_info": {
      "name": "python"
    }
  },
  "cells": [
    {
      "cell_type": "code",
      "execution_count": 3,
      "metadata": {
        "colab": {
          "base_uri": "https://localhost:8080/"
        },
        "id": "SnPHyNg8kfA1",
        "outputId": "d64eaa21-c629-441f-f431-a5e5f0c8ff2d"
      },
      "outputs": [
        {
          "output_type": "stream",
          "name": "stdout",
          "text": [
            "enter a number18\n",
            "11\n"
          ]
        }
      ],
      "source": [
        "def count_digit_one(n):\n",
        "    count = 0\n",
        "\n",
        "    for i in range(1, n + 1):\n",
        "        count += str(i).count('1')\n",
        "\n",
        "    return count\n",
        "\n",
        "\n",
        "n=int(input(\"enter a number\"))\n",
        "print(count_digit_one(n))"
      ]
    },
    {
      "cell_type": "code",
      "source": [],
      "metadata": {
        "id": "FWghEPiakgAm"
      },
      "execution_count": null,
      "outputs": []
    }
  ]
}