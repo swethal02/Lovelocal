{
  "nbformat": 4,
  "nbformat_minor": 0,
  "metadata": {
    "colab": {
      "provenance": []
    },
    "kernelspec": {
      "name": "python3",
      "display_name": "Python 3"
    },
    "language_info": {
      "name": "python"
    }
  },
  "cells": [
    {
      "cell_type": "code",
      "execution_count": 1,
      "metadata": {
        "colab": {
          "base_uri": "https://localhost:8080/"
        },
        "id": "zfammEHyF68s",
        "outputId": "3eb94423-7568-4b73-e8a5-87c5b89eaa0c"
      },
      "outputs": [
        {
          "output_type": "stream",
          "name": "stdout",
          "text": [
            "Enter the string: abcd\n",
            "shortestPalindrome dcbabcd\n"
          ]
        }
      ],
      "source": [
        "class Solution:\n",
        "    def shortestPalindrome(self, s: str) -> str:\n",
        "        p = s[::-1]\n",
        "        add = \"\"\n",
        "        n = len(s)\n",
        "        for i in range (n):\n",
        "            a = s[0:n-i]\n",
        "            b = p[i:]\n",
        "            if (a!=b):\n",
        "                add+=a[-1]\n",
        "            else:\n",
        "                break\n",
        "        return add+s\n",
        "\n",
        "string = input(\"Enter the string: \")\n",
        "sol=Solution()\n",
        "result=sol.shortestPalindrome(string)\n",
        "print(\"shortestPalindrome\",result)"
      ]
    },
    {
      "cell_type": "code",
      "source": [],
      "metadata": {
        "id": "M6CYdWwkF9fB"
      },
      "execution_count": 1,
      "outputs": []
    },
    {
      "cell_type": "code",
      "source": [],
      "metadata": {
        "id": "UG9-Pmp7Gtms"
      },
      "execution_count": null,
      "outputs": []
    }
  ]
}